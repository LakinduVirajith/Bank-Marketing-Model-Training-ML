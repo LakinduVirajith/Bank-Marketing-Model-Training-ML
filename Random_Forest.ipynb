{
 "cells": [
  {
   "cell_type": "code",
   "execution_count": 1,
   "metadata": {},
   "outputs": [
    {
     "name": "stdout",
     "output_type": "stream",
     "text": [
      "File found. Loading data...\n",
      "Data loaded successfully!\n",
      "\n",
      "45211 rows of data are available. Previewing prices of the first 50 rows:\n",
      "+----+-----+---------------+----------+-----------+---------+---------+---------+------+---------+-----+-------+----------+----------+-------+----------+----------+----+\n",
      "|    | age |      job      | marital  | education | default | balance | housing | loan | contact | day | month | duration | campaign | pdays | previous | poutcome | y  |\n",
      "+----+-----+---------------+----------+-----------+---------+---------+---------+------+---------+-----+-------+----------+----------+-------+----------+----------+----+\n",
      "| 0  | 58  |  management   | married  | tertiary  |   no    |  2143   |   yes   |  no  | unknown |  5  |  may  |   261    |    1     |  -1   |    0     | unknown  | no |\n",
      "| 1  | 44  |  technician   |  single  | secondary |   no    |   29    |   yes   |  no  | unknown |  5  |  may  |   151    |    1     |  -1   |    0     | unknown  | no |\n",
      "| 2  | 33  | entrepreneur  | married  | secondary |   no    |    2    |   yes   | yes  | unknown |  5  |  may  |    76    |    1     |  -1   |    0     | unknown  | no |\n",
      "| 3  | 47  |  blue-collar  | married  |  unknown  |   no    |  1506   |   yes   |  no  | unknown |  5  |  may  |    92    |    1     |  -1   |    0     | unknown  | no |\n",
      "| 4  | 33  |    unknown    |  single  |  unknown  |   no    |    1    |   no    |  no  | unknown |  5  |  may  |   198    |    1     |  -1   |    0     | unknown  | no |\n",
      "| 5  | 35  |  management   | married  | tertiary  |   no    |   231   |   yes   |  no  | unknown |  5  |  may  |   139    |    1     |  -1   |    0     | unknown  | no |\n",
      "| 6  | 28  |  management   |  single  | tertiary  |   no    |   447   |   yes   | yes  | unknown |  5  |  may  |   217    |    1     |  -1   |    0     | unknown  | no |\n",
      "| 7  | 42  | entrepreneur  | divorced | tertiary  |   yes   |    2    |   yes   |  no  | unknown |  5  |  may  |   380    |    1     |  -1   |    0     | unknown  | no |\n",
      "| 8  | 58  |    retired    | married  |  primary  |   no    |   121   |   yes   |  no  | unknown |  5  |  may  |    50    |    1     |  -1   |    0     | unknown  | no |\n",
      "| 9  | 43  |  technician   |  single  | secondary |   no    |   593   |   yes   |  no  | unknown |  5  |  may  |    55    |    1     |  -1   |    0     | unknown  | no |\n",
      "| 10 | 41  |    admin.     | divorced | secondary |   no    |   270   |   yes   |  no  | unknown |  5  |  may  |   222    |    1     |  -1   |    0     | unknown  | no |\n",
      "| 11 | 29  |    admin.     |  single  | secondary |   no    |   390   |   yes   |  no  | unknown |  5  |  may  |   137    |    1     |  -1   |    0     | unknown  | no |\n",
      "| 12 | 53  |  technician   | married  | secondary |   no    |    6    |   yes   |  no  | unknown |  5  |  may  |   517    |    1     |  -1   |    0     | unknown  | no |\n",
      "| 13 | 58  |  technician   | married  |  unknown  |   no    |   71    |   yes   |  no  | unknown |  5  |  may  |    71    |    1     |  -1   |    0     | unknown  | no |\n",
      "| 14 | 57  |   services    | married  | secondary |   no    |   162   |   yes   |  no  | unknown |  5  |  may  |   174    |    1     |  -1   |    0     | unknown  | no |\n",
      "| 15 | 51  |    retired    | married  |  primary  |   no    |   229   |   yes   |  no  | unknown |  5  |  may  |   353    |    1     |  -1   |    0     | unknown  | no |\n",
      "| 16 | 45  |    admin.     |  single  |  unknown  |   no    |   13    |   yes   |  no  | unknown |  5  |  may  |    98    |    1     |  -1   |    0     | unknown  | no |\n",
      "| 17 | 57  |  blue-collar  | married  |  primary  |   no    |   52    |   yes   |  no  | unknown |  5  |  may  |    38    |    1     |  -1   |    0     | unknown  | no |\n",
      "| 18 | 60  |    retired    | married  |  primary  |   no    |   60    |   yes   |  no  | unknown |  5  |  may  |   219    |    1     |  -1   |    0     | unknown  | no |\n",
      "| 19 | 33  |   services    | married  | secondary |   no    |    0    |   yes   |  no  | unknown |  5  |  may  |    54    |    1     |  -1   |    0     | unknown  | no |\n",
      "| 20 | 28  |  blue-collar  | married  | secondary |   no    |   723   |   yes   | yes  | unknown |  5  |  may  |   262    |    1     |  -1   |    0     | unknown  | no |\n",
      "| 21 | 56  |  management   | married  | tertiary  |   no    |   779   |   yes   |  no  | unknown |  5  |  may  |   164    |    1     |  -1   |    0     | unknown  | no |\n",
      "| 22 | 32  |  blue-collar  |  single  |  primary  |   no    |   23    |   yes   | yes  | unknown |  5  |  may  |   160    |    1     |  -1   |    0     | unknown  | no |\n",
      "| 23 | 25  |   services    | married  | secondary |   no    |   50    |   yes   |  no  | unknown |  5  |  may  |   342    |    1     |  -1   |    0     | unknown  | no |\n",
      "| 24 | 40  |    retired    | married  |  primary  |   no    |    0    |   yes   | yes  | unknown |  5  |  may  |   181    |    1     |  -1   |    0     | unknown  | no |\n",
      "| 25 | 44  |    admin.     | married  | secondary |   no    |  -372   |   yes   |  no  | unknown |  5  |  may  |   172    |    1     |  -1   |    0     | unknown  | no |\n",
      "| 26 | 39  |  management   |  single  | tertiary  |   no    |   255   |   yes   |  no  | unknown |  5  |  may  |   296    |    1     |  -1   |    0     | unknown  | no |\n",
      "| 27 | 52  | entrepreneur  | married  | secondary |   no    |   113   |   yes   | yes  | unknown |  5  |  may  |   127    |    1     |  -1   |    0     | unknown  | no |\n",
      "| 28 | 46  |  management   |  single  | secondary |   no    |  -246   |   yes   |  no  | unknown |  5  |  may  |   255    |    2     |  -1   |    0     | unknown  | no |\n",
      "| 29 | 36  |  technician   |  single  | secondary |   no    |   265   |   yes   | yes  | unknown |  5  |  may  |   348    |    1     |  -1   |    0     | unknown  | no |\n",
      "| 30 | 57  |  technician   | married  | secondary |   no    |   839   |   no    | yes  | unknown |  5  |  may  |   225    |    1     |  -1   |    0     | unknown  | no |\n",
      "| 31 | 49  |  management   | married  | tertiary  |   no    |   378   |   yes   |  no  | unknown |  5  |  may  |   230    |    1     |  -1   |    0     | unknown  | no |\n",
      "| 32 | 60  |    admin.     | married  | secondary |   no    |   39    |   yes   | yes  | unknown |  5  |  may  |   208    |    1     |  -1   |    0     | unknown  | no |\n",
      "| 33 | 59  |  blue-collar  | married  | secondary |   no    |    0    |   yes   |  no  | unknown |  5  |  may  |   226    |    1     |  -1   |    0     | unknown  | no |\n",
      "| 34 | 51  |  management   | married  | tertiary  |   no    |  10635  |   yes   |  no  | unknown |  5  |  may  |   336    |    1     |  -1   |    0     | unknown  | no |\n",
      "| 35 | 57  |  technician   | divorced | secondary |   no    |   63    |   yes   |  no  | unknown |  5  |  may  |   242    |    1     |  -1   |    0     | unknown  | no |\n",
      "| 36 | 25  |  blue-collar  | married  | secondary |   no    |   -7    |   yes   |  no  | unknown |  5  |  may  |   365    |    1     |  -1   |    0     | unknown  | no |\n",
      "| 37 | 53  |  technician   | married  | secondary |   no    |   -3    |   no    |  no  | unknown |  5  |  may  |   1666   |    1     |  -1   |    0     | unknown  | no |\n",
      "| 38 | 36  |    admin.     | divorced | secondary |   no    |   506   |   yes   |  no  | unknown |  5  |  may  |   577    |    1     |  -1   |    0     | unknown  | no |\n",
      "| 39 | 37  |    admin.     |  single  | secondary |   no    |    0    |   yes   |  no  | unknown |  5  |  may  |   137    |    1     |  -1   |    0     | unknown  | no |\n",
      "| 40 | 44  |   services    | divorced | secondary |   no    |  2586   |   yes   |  no  | unknown |  5  |  may  |   160    |    1     |  -1   |    0     | unknown  | no |\n",
      "| 41 | 50  |  management   | married  | secondary |   no    |   49    |   yes   |  no  | unknown |  5  |  may  |   180    |    2     |  -1   |    0     | unknown  | no |\n",
      "| 42 | 60  |  blue-collar  | married  |  unknown  |   no    |   104   |   yes   |  no  | unknown |  5  |  may  |    22    |    1     |  -1   |    0     | unknown  | no |\n",
      "| 43 | 54  |    retired    | married  | secondary |   no    |   529   |   yes   |  no  | unknown |  5  |  may  |   1492   |    1     |  -1   |    0     | unknown  | no |\n",
      "| 44 | 58  |    retired    | married  |  unknown  |   no    |   96    |   yes   |  no  | unknown |  5  |  may  |   616    |    1     |  -1   |    0     | unknown  | no |\n",
      "| 45 | 36  |    admin.     |  single  |  primary  |   no    |  -171   |   yes   |  no  | unknown |  5  |  may  |   242    |    1     |  -1   |    0     | unknown  | no |\n",
      "| 46 | 58  | self-employed | married  | tertiary  |   no    |  -364   |   yes   |  no  | unknown |  5  |  may  |   355    |    1     |  -1   |    0     | unknown  | no |\n",
      "| 47 | 44  |  technician   | married  | secondary |   no    |    0    |   yes   |  no  | unknown |  5  |  may  |   225    |    2     |  -1   |    0     | unknown  | no |\n",
      "| 48 | 55  |  technician   | divorced | secondary |   no    |    0    |   no    |  no  | unknown |  5  |  may  |   160    |    1     |  -1   |    0     | unknown  | no |\n",
      "| 49 | 29  |  management   |  single  | tertiary  |   no    |    0    |   yes   |  no  | unknown |  5  |  may  |   363    |    1     |  -1   |    0     | unknown  | no |\n",
      "+----+-----+---------------+----------+-----------+---------+---------+---------+------+---------+-----+-------+----------+----------+-------+----------+----------+----+\n"
     ]
    }
   ],
   "source": [
    "import pandas as pd\n",
    "from tabulate import tabulate\n",
    "from sklearn.preprocessing import StandardScaler\n",
    "import os\n",
    "\n",
    "# Path to the CSV file\n",
    "file_path = 'bank-full.csv'\n",
    "\n",
    "# Checking if the file exists\n",
    "if os.path.exists(file_path):\n",
    "    print(\"File found. Loading data...\")\n",
    "    df = pd.read_csv(file_path, sep=';', quotechar='\"')\n",
    "    print(\"Data loaded successfully!\")\n",
    "else:\n",
    "    print(\"File not found at the specified path.\")\n",
    "    print(\"Please make sure the file exists and the path is correct.\")\n",
    "\n",
    "# Get the count of rows in the DataFrame\n",
    "num_rows = len(df)\n",
    "print()\n",
    "print(f\"{num_rows} rows of data are available. Previewing prices of the first 50 rows:\")\n",
    "\n",
    "# Displaying the first 50 rows of the DataFrame in a tabular format\n",
    "print(tabulate(df.head(50), headers='keys', tablefmt='pretty'))\n"
   ]
  },
  {
   "cell_type": "markdown",
   "metadata": {},
   "source": [
    "## Preprocessing"
   ]
  },
  {
   "cell_type": "code",
   "execution_count": 2,
   "metadata": {},
   "outputs": [
    {
     "name": "stdout",
     "output_type": "stream",
     "text": [
      "No missing values in any column.\n"
     ]
    }
   ],
   "source": [
    "# 1. Handle Missing Values\n",
    "# Check for missing values in each column\n",
    "missing_values = df.isnull().sum()\n",
    "\n",
    "# Display columns with missing values and the number of missing values\n",
    "missing_columns = missing_values[missing_values > 0]\n",
    "if missing_columns.empty:\n",
    "    print(\"No missing values in any column.\")\n",
    "else:\n",
    "    print(\"Columns with Missing Values:\")\n",
    "    for col, missing_count in missing_columns.items():\n",
    "        print(f\"{col}: {missing_count} missing values\")\n"
   ]
  },
  {
   "cell_type": "code",
   "execution_count": 3,
   "metadata": {},
   "outputs": [
    {
     "name": "stdout",
     "output_type": "stream",
     "text": [
      "No duplicate rows found.\n"
     ]
    }
   ],
   "source": [
    "# 2. Data Cleaning\n",
    "# Check for duplicate rows\n",
    "duplicate_rows = df[df.duplicated()]\n",
    "\n",
    "# Display and remove duplicate rows\n",
    "if not duplicate_rows.empty:\n",
    "    print(\"Duplicate Rows:\")\n",
    "    print(duplicate_rows)\n",
    "    df = df.drop_duplicates()\n",
    "    print(\"Duplicate rows removed.\")\n",
    "else:\n",
    "    print(\"No duplicate rows found.\")"
   ]
  },
  {
   "cell_type": "code",
   "execution_count": 4,
   "metadata": {},
   "outputs": [
    {
     "name": "stdout",
     "output_type": "stream",
     "text": [
      "Binary categorical column 'default' successfully encoded.\n",
      "Binary categorical column 'housing' successfully encoded.\n",
      "Binary categorical column 'loan' successfully encoded.\n",
      "Binary categorical column 'y' successfully encoded.\n"
     ]
    }
   ],
   "source": [
    "# 3. Data Transformation\n",
    "# Flag to check if any binary columns are found\n",
    "found_binary_cols = False\n",
    "\n",
    "# Convert binary categorical columns to numerical values and provide meaningful prints\n",
    "for col in df.columns:\n",
    "    if df[col].dtype == 'object' and df[col].nunique() == 2 and set(df[col].unique()) == {'no', 'yes'}:\n",
    "        df[col] = df[col].map({'no': 0, 'yes': 1})\n",
    "        print(f\"Binary categorical column '{col}' successfully encoded.\")\n",
    "        found_binary_cols = True\n",
    "\n",
    "# If no binary categorical columns are found, print a message\n",
    "if not found_binary_cols:\n",
    "    print(\"No binary categorical columns found for encoding.\")\n"
   ]
  },
  {
   "cell_type": "code",
   "execution_count": 5,
   "metadata": {},
   "outputs": [
    {
     "name": "stdout",
     "output_type": "stream",
     "text": [
      "Nominal categorical column 'job' successfully encoded.\n",
      "Nominal categorical column 'marital' successfully encoded.\n",
      "Nominal categorical column 'education' successfully encoded.\n",
      "Nominal categorical column 'contact' successfully encoded.\n",
      "Nominal categorical column 'month' successfully encoded.\n",
      "Nominal categorical column 'poutcome' successfully encoded.\n"
     ]
    }
   ],
   "source": [
    "# 4. Feature Engineering\n",
    "# Identify categorical columns with up to 10 unique values\n",
    "categorical_columns = [col for col in df.columns if df[col].dtype == 'object' and df[col].nunique() <= 12]\n",
    "\n",
    "# Check if there are any categorical columns with up to 12 unique values\n",
    "if categorical_columns:\n",
    "    # Encode categorical variables using one-hot encoding for columns with up to 12 unique values\n",
    "    df = pd.get_dummies(df, columns=categorical_columns)\n",
    "    \n",
    "    # Print messages for successfully encoded columns\n",
    "    for col in categorical_columns:\n",
    "        print(f\"Nominal categorical column '{col}' successfully encoded.\")\n",
    "    \n",
    "    # Convert boolean columns to integers\n",
    "    for col in df.columns:\n",
    "        if df[col].nunique() == 2 and df[col].dtype == bool:\n",
    "            df[col] = df[col].astype(int)\n",
    "else:\n",
    "    print(\"No categorical columns with up to 12 unique values found.\")"
   ]
  },
  {
   "cell_type": "code",
   "execution_count": 6,
   "metadata": {},
   "outputs": [
    {
     "name": "stdout",
     "output_type": "stream",
     "text": [
      "Age, balance, and duration columns scaled using standard scaling.\n"
     ]
    }
   ],
   "source": [
    "# 5. Data Scaling\n",
    "# Initialize the MinMaxScaler\n",
    "scaler = StandardScaler()\n",
    "\n",
    "# Select the numerical columns that need to be scaled\n",
    "numerical_columns = ['age', 'balance', 'duration']\n",
    "\n",
    "# Apply Min-Max scaling to the selected numerical columns\n",
    "df[numerical_columns] = scaler.fit_transform(df[numerical_columns])\n",
    "print(\"Age, balance, and duration columns scaled using standard scaling.\")"
   ]
  },
  {
   "cell_type": "markdown",
   "metadata": {},
   "source": [
    "## Training Model"
   ]
  },
  {
   "cell_type": "code",
   "execution_count": 7,
   "metadata": {},
   "outputs": [
    {
     "name": "stdout",
     "output_type": "stream",
     "text": [
      "Accuracy: 0.9057062813329402\n"
     ]
    }
   ],
   "source": [
    "from sklearn.model_selection import train_test_split\n",
    "from sklearn.ensemble import RandomForestClassifier\n",
    "from sklearn.metrics import accuracy_score\n",
    "\n",
    "# Exclude the specified columns from the DataFrame\n",
    "X = df.drop(columns=['y'])\n",
    "\n",
    "# Target variable\n",
    "y = df['y']\n",
    "\n",
    "# Split the data into training and testing sets\n",
    "X_train, X_test, y_train, y_test = train_test_split(X, y, test_size=0.3, random_state=42)\n",
    "\n",
    "# Instantiate the Random Forest Classifier\n",
    "rf_classifier = RandomForestClassifier(random_state=42, n_estimators=500)\n",
    "\n",
    "# Fit the model to the training data\n",
    "rf_classifier.fit(X_train, y_train)\n",
    "\n",
    "# Predict on the test data\n",
    "y_pred = rf_classifier.predict(X_test)\n",
    "\n",
    "# Evaluate the model's accuracy\n",
    "accuracy = accuracy_score(y_test, y_pred)\n",
    "print(\"Accuracy:\", accuracy)"
   ]
  },
  {
   "cell_type": "markdown",
   "metadata": {},
   "source": [
    "## Feature Importances"
   ]
  },
  {
   "cell_type": "code",
   "execution_count": 8,
   "metadata": {},
   "outputs": [
    {
     "name": "stdout",
     "output_type": "stream",
     "text": [
      "age: 0.09453979850440129\n",
      "default: 0.0020076059963673996\n",
      "balance: 0.09395813307161047\n",
      "housing: 0.022833409735661253\n",
      "loan: 0.00959095996970721\n",
      "day: 0.08224128375117234\n",
      "duration: 0.2624259471877268\n",
      "campaign: 0.03912925499495243\n",
      "pdays: 0.0398209637149569\n",
      "previous: 0.02086942009715851\n",
      "job_admin.: 0.009185989330491705\n",
      "job_blue-collar: 0.008562194896292405\n",
      "job_entrepreneur: 0.003564648203812384\n",
      "job_housemaid: 0.0031287691503338404\n",
      "job_management: 0.010325664674115217\n",
      "job_retired: 0.005222049794120534\n",
      "job_self-employed: 0.004601850346155823\n",
      "job_services: 0.006390510516194877\n",
      "job_student: 0.004376826738408089\n",
      "job_technician: 0.010608159219854148\n",
      "job_unemployed: 0.004440737048139379\n",
      "job_unknown: 0.001334790656382933\n",
      "marital_divorced: 0.0072079343149096305\n",
      "marital_married: 0.010560001728273281\n",
      "marital_single: 0.009424503908837827\n",
      "education_primary: 0.006889951257592927\n",
      "education_secondary: 0.011736410496894143\n",
      "education_tertiary: 0.011069220572531664\n",
      "education_unknown: 0.005124747863091269\n",
      "contact_cellular: 0.00948646239860368\n",
      "contact_telephone: 0.004639071462616773\n",
      "contact_unknown: 0.00925936539559974\n",
      "month_apr: 0.012521214387149987\n",
      "month_aug: 0.009475363805774056\n",
      "month_dec: 0.004056424409525581\n",
      "month_feb: 0.007483275302599884\n",
      "month_jan: 0.004740132869134796\n",
      "month_jul: 0.008544706827915879\n",
      "month_jun: 0.0110999546785981\n",
      "month_mar: 0.012558612589487756\n",
      "month_may: 0.009745352033327232\n",
      "month_nov: 0.007900078148482021\n",
      "month_oct: 0.011232839716376357\n",
      "month_sep: 0.008177022411707391\n",
      "poutcome_failure: 0.008901737694001441\n",
      "poutcome_other: 0.00509029698939154\n",
      "poutcome_success: 0.04606426732775419\n",
      "poutcome_unknown: 0.007852083811806982\n"
     ]
    }
   ],
   "source": [
    "# Get feature importances\n",
    "importances = rf_classifier.feature_importances_\n",
    "\n",
    "# Print the importance of each feature\n",
    "for feature, importance in zip(X, importances):\n",
    "    print(f\"{feature}: {importance}\")"
   ]
  },
  {
   "cell_type": "code",
   "execution_count": 9,
   "metadata": {},
   "outputs": [
    {
     "name": "stdout",
     "output_type": "stream",
     "text": [
      "Accuracy: 0.9063698024181658\n"
     ]
    }
   ],
   "source": [
    "# Exclude the specified columns from the DataFrame\n",
    "X = df.drop(columns=['y', 'default', 'loan'])\n",
    "\n",
    "# Target variable\n",
    "y = df['y']\n",
    "\n",
    "# Split the data into training and testing sets\n",
    "X_train, X_test, y_train, y_test = train_test_split(X, y, test_size=0.3, random_state=42)\n",
    "\n",
    "# Instantiate the Random Forest Classifier\n",
    "rf_classifier = RandomForestClassifier(random_state=42, n_estimators=500)\n",
    "\n",
    "# Fit the model to the training data\n",
    "rf_classifier.fit(X_train, y_train)\n",
    "\n",
    "# Predict on the test data\n",
    "y_pred = rf_classifier.predict(X_test)\n",
    "\n",
    "# Evaluate the model's accuracy\n",
    "accuracy = accuracy_score(y_test, y_pred)\n",
    "print(\"Accuracy:\", accuracy)"
   ]
  },
  {
   "cell_type": "markdown",
   "metadata": {},
   "source": [
    "## Evaluate"
   ]
  },
  {
   "cell_type": "code",
   "execution_count": 3,
   "metadata": {},
   "outputs": [
    {
     "ename": "NameError",
     "evalue": "name 'y_test' is not defined",
     "output_type": "error",
     "traceback": [
      "\u001b[1;31m---------------------------------------------------------------------------\u001b[0m",
      "\u001b[1;31mNameError\u001b[0m                                 Traceback (most recent call last)",
      "Cell \u001b[1;32mIn[3], line 6\u001b[0m\n\u001b[0;32m      3\u001b[0m \u001b[38;5;28;01mfrom\u001b[39;00m \u001b[38;5;21;01msklearn\u001b[39;00m\u001b[38;5;21;01m.\u001b[39;00m\u001b[38;5;21;01mmetrics\u001b[39;00m \u001b[38;5;28;01mimport\u001b[39;00m confusion_matrix\n\u001b[0;32m      5\u001b[0m \u001b[38;5;66;03m# Calculate the confusion matrix\u001b[39;00m\n\u001b[1;32m----> 6\u001b[0m cm \u001b[38;5;241m=\u001b[39m confusion_matrix(\u001b[43my_test\u001b[49m, y_pred)\n\u001b[0;32m      8\u001b[0m \u001b[38;5;66;03m# Plot the confusion matrix as a heatmap\u001b[39;00m\n\u001b[0;32m      9\u001b[0m sns\u001b[38;5;241m.\u001b[39mheatmap(cm, annot\u001b[38;5;241m=\u001b[39m\u001b[38;5;28;01mTrue\u001b[39;00m, fmt\u001b[38;5;241m=\u001b[39m\u001b[38;5;124m\"\u001b[39m\u001b[38;5;124md\u001b[39m\u001b[38;5;124m\"\u001b[39m)\n",
      "\u001b[1;31mNameError\u001b[0m: name 'y_test' is not defined"
     ]
    }
   ],
   "source": [
    "import matplotlib.pyplot as plt\n",
    "import seaborn as sns\n",
    "from sklearn.metrics import confusion_matrix\n",
    "\n",
    "# Calculate the confusion matrix\n",
    "cm = confusion_matrix(y_test, y_pred)\n",
    "\n",
    "# Plot the confusion matrix as a heatmap\n",
    "sns.heatmap(cm, annot=True, fmt=\"d\")\n",
    "\n",
    "# Set labels and title\n",
    "plt.xlabel('Predicted')\n",
    "plt.ylabel('True')\n",
    "plt.title('Confusion Matrix')\n",
    "\n",
    "# Display the plot\n",
    "plt.show()"
   ]
  },
  {
   "cell_type": "markdown",
   "metadata": {},
   "source": [
    "True Negative (TN): The instances that were actually negative and were correctly predicted as negative by the model.\n",
    "\n",
    "False Positive (FP): The instances that were actually negative but were incorrectly predicted as positive by the model.\n",
    "\n",
    "False Negative (FN): The instances that were actually positive but were incorrectly predicted as negative by the model.\n",
    "\n",
    "True Positive (TP): The instances that were actually positive and were correctly predicted as positive by the model."
   ]
  },
  {
   "cell_type": "code",
   "execution_count": 11,
   "metadata": {},
   "outputs": [
    {
     "name": "stdout",
     "output_type": "stream",
     "text": [
      "              precision    recall  f1-score   support\n",
      "\n",
      "           0       0.93      0.97      0.95     11966\n",
      "           1       0.66      0.41      0.51      1598\n",
      "\n",
      "    accuracy                           0.91     13564\n",
      "   macro avg       0.80      0.69      0.73     13564\n",
      "weighted avg       0.89      0.91      0.90     13564\n",
      "\n"
     ]
    }
   ],
   "source": [
    "from sklearn.metrics import classification_report\n",
    "\n",
    "# Generate and print the classification report\n",
    "print(classification_report(y_test, y_pred))"
   ]
  },
  {
   "cell_type": "markdown",
   "metadata": {},
   "source": [
    "Precision: Precision is the ratio of correctly predicted positive observations to the total predicted positives. In other words, it measures the accuracy of positive predictions.\n",
    "\n",
    "Recall (Sensitivity): Recall is the ratio of correctly predicted positive observations to the all observations in actual class. In other words, it measures the ability of the model to find all the positive samples.\n",
    "\n",
    "F1-Score: The F1-score is the harmonic mean of precision and recall. It is a single metric that combines both precision and recall into a single value.\n",
    "\n",
    "Support: Support is the number of actual occurrences of the class in the specified dataset. It's the number of true instances for each class.\n",
    "\n",
    "Accuracy: Accuracy is the ratio of correctly predicted observations to the total observations. It measures the overall correctness of the model across all classes. \n",
    "\n",
    "Macro Avg: The macro average is the unweighted mean of precision, recall, and F1-score across all classes. It calculates metrics for each class individually and then takes the average\n",
    "\n",
    "Weighted Avg: The weighted average is the weighted mean of precision, recall, and F1-score across all classes. It calculates metrics for each class individually and then takes the average, with each class's contribution weighted by its support (the number of true instances)."
   ]
  }
 ],
 "metadata": {
  "kernelspec": {
   "display_name": "Python 3",
   "language": "python",
   "name": "python3"
  },
  "language_info": {
   "codemirror_mode": {
    "name": "ipython",
    "version": 3
   },
   "file_extension": ".py",
   "mimetype": "text/x-python",
   "name": "python",
   "nbconvert_exporter": "python",
   "pygments_lexer": "ipython3",
   "version": "3.12.3"
  }
 },
 "nbformat": 4,
 "nbformat_minor": 2
}
